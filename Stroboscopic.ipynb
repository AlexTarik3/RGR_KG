{
 "cells": [
  {
   "cell_type": "code",
   "execution_count": 2,
   "id": "3d2fa8f4-2803-48f5-8733-8323fde05ded",
   "metadata": {},
   "outputs": [],
   "source": [
    "import pygame\n",
    "import random\n",
    "\n",
    "# Ініціалізація pygame\n",
    "pygame.init()\n",
    "\n",
    "# Налаштування екрана\n",
    "screen_width = 800\n",
    "screen_height = 600\n",
    "screen = pygame.display.set_mode((screen_width, screen_height))\n",
    "pygame.display.set_caption(\"Стробоскопічний м'яч\")\n",
    "\n",
    "# Завантаження зображення м'яча\n",
    "ball_image = pygame.image.load(\"ball.png\")\n",
    "\n",
    "# Визначення змінних\n",
    "ball_x = screen_width // 2 - ball_image.get_width() // 2\n",
    "ball_y = screen_height // 2 - ball_image.get_height() // 2\n",
    "ball_speed_x = random.randint(-5, 5)\n",
    "ball_speed_y = random.randint(-5, 5)\n",
    "is_visible = True\n",
    "\n",
    "# Цикл гри\n",
    "running = True\n",
    "while running:\n",
    "    for event in pygame.event.get():\n",
    "        if event.type == pygame.QUIT:\n",
    "            running = False\n",
    "\n",
    "    # Оновлення позиції м'яча\n",
    "    ball_x += ball_speed_x\n",
    "    ball_y += ball_speed_y\n",
    "\n",
    "    # Перевірка меж екрана\n",
    "    if ball_x < 0 or ball_x + ball_image.get_width() > screen_width:\n",
    "        ball_speed_x *= -1\n",
    "    if ball_y < 0 or ball_y + ball_image.get_height() > screen_height:\n",
    "        ball_speed_y *= -1\n",
    "\n",
    "    # Зміна видимості м'яча\n",
    "    is_visible = not is_visible\n",
    "\n",
    "    # Очищення екрана\n",
    "    screen.fill((0, 0, 0))\n",
    "\n",
    "    # Відображення м'яча, якщо він видимий\n",
    "    if is_visible:\n",
    "        screen.blit(ball_image, (ball_x, ball_y))\n",
    "\n",
    "    # Оновлення екрана\n",
    "    pygame.display.flip()\n",
    "\n",
    "# Завершення pygame\n",
    "pygame.quit()"
   ]
  },
  {
   "cell_type": "code",
   "execution_count": null,
   "id": "80dd321a-0a34-4090-88da-58769cebdbfa",
   "metadata": {},
   "outputs": [],
   "source": []
  }
 ],
 "metadata": {
  "kernelspec": {
   "display_name": "Python 3 (ipykernel)",
   "language": "python",
   "name": "python3"
  },
  "language_info": {
   "codemirror_mode": {
    "name": "ipython",
    "version": 3
   },
   "file_extension": ".py",
   "mimetype": "text/x-python",
   "name": "python",
   "nbconvert_exporter": "python",
   "pygments_lexer": "ipython3",
   "version": "3.11.5"
  }
 },
 "nbformat": 4,
 "nbformat_minor": 5
}
